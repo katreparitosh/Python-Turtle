{
 "cells": [
  {
   "cell_type": "code",
   "execution_count": 3,
   "metadata": {},
   "outputs": [],
   "source": [
    "import turtle"
   ]
  },
  {
   "cell_type": "code",
   "execution_count": 4,
   "metadata": {},
   "outputs": [],
   "source": [
    "def draw_square(some_turtle):\n",
    "    for i in range(1,5):\n",
    "\t    some_turtle.forward(100)\n",
    "\t    some_turtle.right(90)"
   ]
  },
  {
   "cell_type": "code",
   "execution_count": 5,
   "metadata": {},
   "outputs": [],
   "source": [
    "def draw_rhombus(some_turtle):\n",
    "    for i in range(1,3):\n",
    "\t    some_turtle.forward(150)\n",
    "\t    some_turtle.left(45)\n",
    "\t    some_turtle.forward(100)\n",
    "\t    some_turtle.left(135)"
   ]
  },
  {
   "cell_type": "code",
   "execution_count": 6,
   "metadata": {},
   "outputs": [],
   "source": [
    "def draw_circle(circle,radius,color):\n",
    "    circle.color(color)\n",
    "    circle.circle(radius)"
   ]
  },
  {
   "cell_type": "code",
   "execution_count": 7,
   "metadata": {},
   "outputs": [],
   "source": [
    "def draw_turtles():\n",
    "    window=turtle.Screen()\n",
    "    window.bgcolor(\"black\")"
   ]
  },
  {
   "cell_type": "code",
   "execution_count": 8,
   "metadata": {},
   "outputs": [],
   "source": [
    "squ=turtle.Turtle()\n",
    "squ.shape(\"turtle\")\n",
    "squ.color(\"yellow\")\n",
    "squ.speed(100)\n",
    "for i in range(1,37):\n",
    "    draw_square(squ)\n",
    "    squ.right(10)\n",
    "cir=turtle.Turtle()\n",
    "cir.speed(100)\n",
    "cir.shape(\"circle\")\n",
    "cir.color(\"blue\")\n",
    "for i in range (1,11):\n",
    "    cir.circle(50)\n",
    "    cir.right(36)\n",
    "rob=turtle.Turtle()\n",
    "rob.shape(\"arrow\")\n",
    "rob.color(\"orange\")\n",
    "rob.speed(100)\n",
    "for i in range(1,37):\n",
    "    draw_rhombus(rob)\n",
    "    rob.right(10)\n",
    "flower=turtle.Turtle()\n",
    "flower.speed(100)\n",
    "flower.shape(\"arrow\")\n",
    "flower.right(45)\n",
    "for i in range(1,37):\n",
    "    for j in range(1,5):\n",
    "        draw_circle(flower,i,\"green\")\n",
    "        flower.left(90)\n",
    "        flower.right(45)\n",
    "flower.color(\"green\")\n",
    "flower.forward(200)"
   ]
  },
  {
   "cell_type": "code",
   "execution_count": 1,
   "metadata": {},
   "outputs": [
    {
     "ename": "NameError",
     "evalue": "name 'draw_turtles' is not defined",
     "output_type": "error",
     "traceback": [
      "\u001b[1;31m---------------------------------------------------------------------------\u001b[0m",
      "\u001b[1;31mNameError\u001b[0m                                 Traceback (most recent call last)",
      "\u001b[1;32m<ipython-input-1-a9f8415fa1ea>\u001b[0m in \u001b[0;36m<module>\u001b[1;34m()\u001b[0m\n\u001b[1;32m----> 1\u001b[1;33m \u001b[0mdraw_turtles\u001b[0m\u001b[1;33m(\u001b[0m\u001b[1;33m)\u001b[0m\u001b[1;33m\u001b[0m\u001b[0m\n\u001b[0m",
      "\u001b[1;31mNameError\u001b[0m: name 'draw_turtles' is not defined"
     ]
    }
   ],
   "source": [
    "draw_turtles()"
   ]
  }
 ],
 "metadata": {
  "kernelspec": {
   "display_name": "Python 3",
   "language": "python",
   "name": "python3"
  },
  "language_info": {
   "codemirror_mode": {
    "name": "ipython",
    "version": 3
   },
   "file_extension": ".py",
   "mimetype": "text/x-python",
   "name": "python",
   "nbconvert_exporter": "python",
   "pygments_lexer": "ipython3",
   "version": "3.7.0"
  }
 },
 "nbformat": 4,
 "nbformat_minor": 2
}
